{
 "cells": [
  {
   "cell_type": "markdown",
   "metadata": {},
   "source": [
    "# CRIME IN VANCOUVER - ANALYSIS REPORT\n"
   ]
  },
  {
   "cell_type": "markdown",
   "metadata": {},
   "source": [
    "At some point in our lives, we have visited or lived in Vancouver; if you are indeed a Vancouverite. But, how secure is your neighbourhood? Are you aware about the common types of crimes around you and how frequent they occur?\n",
    "\n",
    "By the end of this report, you will have a better understanding of the most dangerous neighbourhoods in Vancouver, using data collected in the past 10 years. \n"
   ]
  },
  {
   "cell_type": "code",
   "execution_count": 34,
   "metadata": {},
   "outputs": [
    {
     "data": {
      "text/html": [
       "<img src=\"http://www.metronews.ca/content/dam/thestar/2014/10/17/oppenheimer27.jpg.size.xxlarge.letterbox.jpg\"/>"
      ],
      "text/plain": [
       "<IPython.core.display.Image object>"
      ]
     },
     "execution_count": 34,
     "metadata": {},
     "output_type": "execute_result"
    }
   ],
   "source": [
    "Image(url= \"http://www.metronews.ca/content/dam/thestar/2014/10/17/oppenheimer27.jpg.size.xxlarge.letterbox.jpg\")"
   ]
  },
  {
   "cell_type": "markdown",
   "metadata": {},
   "source": [
    "## OBJECTIVE"
   ]
  },
  {
   "cell_type": "markdown",
   "metadata": {},
   "source": [
    "This report will highlight how the data was retrieved, cleaned up, analysed and visualized using python, pandas and anacondas."
   ]
  },
  {
   "cell_type": "markdown",
   "metadata": {},
   "source": [
    "## PART I: OBTAINING THE DATA"
   ]
  },
  {
   "cell_type": "code",
   "execution_count": 277,
   "metadata": {},
   "outputs": [
    {
     "name": "stdout",
     "output_type": "stream",
     "text": [
      "Populating the interactive namespace from numpy and matplotlib\n"
     ]
    }
   ],
   "source": [
    "import pandas as pd\n",
    "import numpy as np\n",
    "\n",
    "#Visualization imports can be seen below\n",
    "import matplotlib.pyplot as plt\n",
    "%pylab inline\n",
    "pylab.rcParams['figure.figsize'] = (20, 20.0)\n",
    "\n",
    "import matplotlib as matplot\n",
    "import seaborn as sns\n",
    "%matplotlib inline\n",
    "import warnings\n",
    "warnings.filterwarnings('ignore')\n"
   ]
  },
  {
   "cell_type": "code",
   "execution_count": 254,
   "metadata": {
    "collapsed": true
   },
   "outputs": [],
   "source": [
    "# the data will be imported from my computer and assigned to the variable 'df'\n",
    "df = pd.DataFrame.from_csv('c:/Users/sabby/Desktop/Data Science/crime.csv') "
   ]
  },
  {
   "cell_type": "code",
   "execution_count": 255,
   "metadata": {},
   "outputs": [
    {
     "data": {
      "text/plain": [
       "Index(['TYPE', 'YEAR', 'MONTH', 'DAY', 'HOUR', 'MINUTE', 'HUNDRED_BLOCK',\n",
       "       'NEIGHBOURHOOD', 'X', 'Y', 'Latitude', 'Longitude'],\n",
       "      dtype='object')"
      ]
     },
     "execution_count": 255,
     "metadata": {},
     "output_type": "execute_result"
    }
   ],
   "source": [
    "# let's see the columns included in our data set\n",
    "df.columns"
   ]
  },
  {
   "cell_type": "markdown",
   "metadata": {},
   "source": [
    "## PART II: SCRUBBING THE DATA"
   ]
  },
  {
   "cell_type": "code",
   "execution_count": 256,
   "metadata": {},
   "outputs": [
    {
     "data": {
      "text/plain": [
       "TYPE             False\n",
       "YEAR             False\n",
       "MONTH            False\n",
       "DAY              False\n",
       "HOUR              True\n",
       "MINUTE            True\n",
       "HUNDRED_BLOCK     True\n",
       "NEIGHBOURHOOD     True\n",
       "X                False\n",
       "Y                False\n",
       "Latitude         False\n",
       "Longitude        False\n",
       "dtype: bool"
      ]
     },
     "execution_count": 256,
     "metadata": {},
     "output_type": "execute_result"
    }
   ],
   "source": [
    "# Let's check for null values\n",
    "df.isnull().any()"
   ]
  },
  {
   "cell_type": "markdown",
   "metadata": {},
   "source": [
    "\n",
    "\n",
    "There are some missing data, the data is missing because City of Vancouver is protecting the privacy of these events. \n",
    "\n",
    "Let's get a quick overview of how many missing values we have."
   ]
  },
  {
   "cell_type": "code",
   "execution_count": 271,
   "metadata": {},
   "outputs": [
    {
     "name": "stdout",
     "output_type": "stream",
     "text": [
      "<class 'pandas.core.frame.DataFrame'>\n",
      "Int64Index: 530652 entries, 0 to 530651\n",
      "Data columns (total 12 columns):\n",
      "TYPE             530652 non-null object\n",
      "YEAR             530652 non-null int64\n",
      "MONTH            530652 non-null int64\n",
      "DAY              530652 non-null int64\n",
      "HOUR             476290 non-null float64\n",
      "MINUTE           476290 non-null float64\n",
      "HUNDRED_BLOCK    530639 non-null object\n",
      "NEIGHBOURHOOD    474028 non-null object\n",
      "X                530652 non-null float64\n",
      "Y                530652 non-null float64\n",
      "Latitude         530652 non-null float64\n",
      "Longitude        530652 non-null float64\n",
      "dtypes: float64(6), int64(3), object(3)\n",
      "memory usage: 72.6+ MB\n"
     ]
    }
   ],
   "source": [
    "df.info()"
   ]
  },
  {
   "cell_type": "markdown",
   "metadata": {},
   "source": [
    "##### Let's see what our data set looks like"
   ]
  },
  {
   "cell_type": "code",
   "execution_count": 279,
   "metadata": {},
   "outputs": [
    {
     "data": {
      "text/html": [
       "<div>\n",
       "<style>\n",
       "    .dataframe thead tr:only-child th {\n",
       "        text-align: right;\n",
       "    }\n",
       "\n",
       "    .dataframe thead th {\n",
       "        text-align: left;\n",
       "    }\n",
       "\n",
       "    .dataframe tbody tr th {\n",
       "        vertical-align: top;\n",
       "    }\n",
       "</style>\n",
       "<table border=\"1\" class=\"dataframe\">\n",
       "  <thead>\n",
       "    <tr style=\"text-align: right;\">\n",
       "      <th></th>\n",
       "      <th>TYPE</th>\n",
       "      <th>YEAR</th>\n",
       "      <th>MONTH</th>\n",
       "      <th>DAY</th>\n",
       "      <th>HOUR</th>\n",
       "      <th>MINUTE</th>\n",
       "      <th>HUNDRED_BLOCK</th>\n",
       "      <th>NEIGHBOURHOOD</th>\n",
       "      <th>X</th>\n",
       "      <th>Y</th>\n",
       "      <th>Latitude</th>\n",
       "      <th>Longitude</th>\n",
       "    </tr>\n",
       "  </thead>\n",
       "  <tbody>\n",
       "    <tr>\n",
       "      <th>0</th>\n",
       "      <td>Other Theft</td>\n",
       "      <td>2003</td>\n",
       "      <td>5</td>\n",
       "      <td>12</td>\n",
       "      <td>16.0</td>\n",
       "      <td>15.0</td>\n",
       "      <td>9XX TERMINAL AVE</td>\n",
       "      <td>Strathcona</td>\n",
       "      <td>493906.5</td>\n",
       "      <td>5457452.47</td>\n",
       "      <td>49.269802</td>\n",
       "      <td>-123.083763</td>\n",
       "    </tr>\n",
       "    <tr>\n",
       "      <th>1</th>\n",
       "      <td>Other Theft</td>\n",
       "      <td>2003</td>\n",
       "      <td>5</td>\n",
       "      <td>7</td>\n",
       "      <td>15.0</td>\n",
       "      <td>20.0</td>\n",
       "      <td>9XX TERMINAL AVE</td>\n",
       "      <td>Strathcona</td>\n",
       "      <td>493906.5</td>\n",
       "      <td>5457452.47</td>\n",
       "      <td>49.269802</td>\n",
       "      <td>-123.083763</td>\n",
       "    </tr>\n",
       "    <tr>\n",
       "      <th>2</th>\n",
       "      <td>Other Theft</td>\n",
       "      <td>2003</td>\n",
       "      <td>4</td>\n",
       "      <td>23</td>\n",
       "      <td>16.0</td>\n",
       "      <td>40.0</td>\n",
       "      <td>9XX TERMINAL AVE</td>\n",
       "      <td>Strathcona</td>\n",
       "      <td>493906.5</td>\n",
       "      <td>5457452.47</td>\n",
       "      <td>49.269802</td>\n",
       "      <td>-123.083763</td>\n",
       "    </tr>\n",
       "    <tr>\n",
       "      <th>3</th>\n",
       "      <td>Other Theft</td>\n",
       "      <td>2003</td>\n",
       "      <td>4</td>\n",
       "      <td>20</td>\n",
       "      <td>11.0</td>\n",
       "      <td>15.0</td>\n",
       "      <td>9XX TERMINAL AVE</td>\n",
       "      <td>Strathcona</td>\n",
       "      <td>493906.5</td>\n",
       "      <td>5457452.47</td>\n",
       "      <td>49.269802</td>\n",
       "      <td>-123.083763</td>\n",
       "    </tr>\n",
       "    <tr>\n",
       "      <th>4</th>\n",
       "      <td>Other Theft</td>\n",
       "      <td>2003</td>\n",
       "      <td>4</td>\n",
       "      <td>12</td>\n",
       "      <td>17.0</td>\n",
       "      <td>45.0</td>\n",
       "      <td>9XX TERMINAL AVE</td>\n",
       "      <td>Strathcona</td>\n",
       "      <td>493906.5</td>\n",
       "      <td>5457452.47</td>\n",
       "      <td>49.269802</td>\n",
       "      <td>-123.083763</td>\n",
       "    </tr>\n",
       "  </tbody>\n",
       "</table>\n",
       "</div>"
      ],
      "text/plain": [
       "          TYPE  YEAR  MONTH  DAY  HOUR  MINUTE     HUNDRED_BLOCK  \\\n",
       "0  Other Theft  2003      5   12  16.0    15.0  9XX TERMINAL AVE   \n",
       "1  Other Theft  2003      5    7  15.0    20.0  9XX TERMINAL AVE   \n",
       "2  Other Theft  2003      4   23  16.0    40.0  9XX TERMINAL AVE   \n",
       "3  Other Theft  2003      4   20  11.0    15.0  9XX TERMINAL AVE   \n",
       "4  Other Theft  2003      4   12  17.0    45.0  9XX TERMINAL AVE   \n",
       "\n",
       "  NEIGHBOURHOOD         X           Y   Latitude   Longitude  \n",
       "0    Strathcona  493906.5  5457452.47  49.269802 -123.083763  \n",
       "1    Strathcona  493906.5  5457452.47  49.269802 -123.083763  \n",
       "2    Strathcona  493906.5  5457452.47  49.269802 -123.083763  \n",
       "3    Strathcona  493906.5  5457452.47  49.269802 -123.083763  \n",
       "4    Strathcona  493906.5  5457452.47  49.269802 -123.083763  "
      ]
     },
     "execution_count": 279,
     "metadata": {},
     "output_type": "execute_result"
    }
   ],
   "source": [
    "df.head()"
   ]
  },
  {
   "cell_type": "markdown",
   "metadata": {},
   "source": [
    "# Renaming the Headings \n",
    "Let's rename some columns for a better understanding of our data set."
   ]
  },
  {
   "cell_type": "code",
   "execution_count": null,
   "metadata": {
    "collapsed": true
   },
   "outputs": [],
   "source": [
    "df=df.rename(columns={'HUNDRED_BLOCK':'STREET','X': 'X - AXIS', 'Y':'Y - AXIS', 'Latitude':'LATITUDE','Longitude':'LONGITUDE'})\n",
    "df"
   ]
  },
  {
   "cell_type": "markdown",
   "metadata": {},
   "source": [
    "# Concatenating the date\n",
    "This helps to give a better representation of the events. \n",
    "\n",
    "Setting the day of the week: dt.dayofweek (Monday=0 to Sunday=6) and add it as a column called 'DAY_OF_WEEK'"
   ]
  },
  {
   "cell_type": "code",
   "execution_count": 91,
   "metadata": {
    "scrolled": false
   },
   "outputs": [
    {
     "data": {
      "text/html": [
       "<div>\n",
       "<style>\n",
       "    .dataframe thead tr:only-child th {\n",
       "        text-align: right;\n",
       "    }\n",
       "\n",
       "    .dataframe thead th {\n",
       "        text-align: left;\n",
       "    }\n",
       "\n",
       "    .dataframe tbody tr th {\n",
       "        vertical-align: top;\n",
       "    }\n",
       "</style>\n",
       "<table border=\"1\" class=\"dataframe\">\n",
       "  <thead>\n",
       "    <tr style=\"text-align: right;\">\n",
       "      <th></th>\n",
       "      <th>TYPE</th>\n",
       "      <th>YEAR</th>\n",
       "      <th>MONTH</th>\n",
       "      <th>DAY</th>\n",
       "      <th>HOUR</th>\n",
       "      <th>MINUTE</th>\n",
       "      <th>STREET</th>\n",
       "      <th>NEIGHBOURHOOD</th>\n",
       "      <th>X - AXIS</th>\n",
       "      <th>Y - AXIS</th>\n",
       "      <th>LATITUDE</th>\n",
       "      <th>LONGITUDE</th>\n",
       "      <th>DATE</th>\n",
       "      <th>DAY OF WEEK</th>\n",
       "    </tr>\n",
       "    <tr>\n",
       "      <th>DATE</th>\n",
       "      <th></th>\n",
       "      <th></th>\n",
       "      <th></th>\n",
       "      <th></th>\n",
       "      <th></th>\n",
       "      <th></th>\n",
       "      <th></th>\n",
       "      <th></th>\n",
       "      <th></th>\n",
       "      <th></th>\n",
       "      <th></th>\n",
       "      <th></th>\n",
       "      <th></th>\n",
       "      <th></th>\n",
       "    </tr>\n",
       "  </thead>\n",
       "  <tbody>\n",
       "    <tr>\n",
       "      <th>2003-05-12</th>\n",
       "      <td>Other Theft</td>\n",
       "      <td>2003</td>\n",
       "      <td>5</td>\n",
       "      <td>12</td>\n",
       "      <td>16.0</td>\n",
       "      <td>15.0</td>\n",
       "      <td>9XX TERMINAL AVE</td>\n",
       "      <td>Strathcona</td>\n",
       "      <td>493906.5</td>\n",
       "      <td>5457452.47</td>\n",
       "      <td>49.269802</td>\n",
       "      <td>-123.083763</td>\n",
       "      <td>2003-05-12</td>\n",
       "      <td>0</td>\n",
       "    </tr>\n",
       "    <tr>\n",
       "      <th>2003-05-07</th>\n",
       "      <td>Other Theft</td>\n",
       "      <td>2003</td>\n",
       "      <td>5</td>\n",
       "      <td>7</td>\n",
       "      <td>15.0</td>\n",
       "      <td>20.0</td>\n",
       "      <td>9XX TERMINAL AVE</td>\n",
       "      <td>Strathcona</td>\n",
       "      <td>493906.5</td>\n",
       "      <td>5457452.47</td>\n",
       "      <td>49.269802</td>\n",
       "      <td>-123.083763</td>\n",
       "      <td>2003-05-07</td>\n",
       "      <td>2</td>\n",
       "    </tr>\n",
       "    <tr>\n",
       "      <th>2003-04-23</th>\n",
       "      <td>Other Theft</td>\n",
       "      <td>2003</td>\n",
       "      <td>4</td>\n",
       "      <td>23</td>\n",
       "      <td>16.0</td>\n",
       "      <td>40.0</td>\n",
       "      <td>9XX TERMINAL AVE</td>\n",
       "      <td>Strathcona</td>\n",
       "      <td>493906.5</td>\n",
       "      <td>5457452.47</td>\n",
       "      <td>49.269802</td>\n",
       "      <td>-123.083763</td>\n",
       "      <td>2003-04-23</td>\n",
       "      <td>2</td>\n",
       "    </tr>\n",
       "    <tr>\n",
       "      <th>2003-04-20</th>\n",
       "      <td>Other Theft</td>\n",
       "      <td>2003</td>\n",
       "      <td>4</td>\n",
       "      <td>20</td>\n",
       "      <td>11.0</td>\n",
       "      <td>15.0</td>\n",
       "      <td>9XX TERMINAL AVE</td>\n",
       "      <td>Strathcona</td>\n",
       "      <td>493906.5</td>\n",
       "      <td>5457452.47</td>\n",
       "      <td>49.269802</td>\n",
       "      <td>-123.083763</td>\n",
       "      <td>2003-04-20</td>\n",
       "      <td>6</td>\n",
       "    </tr>\n",
       "    <tr>\n",
       "      <th>2003-04-12</th>\n",
       "      <td>Other Theft</td>\n",
       "      <td>2003</td>\n",
       "      <td>4</td>\n",
       "      <td>12</td>\n",
       "      <td>17.0</td>\n",
       "      <td>45.0</td>\n",
       "      <td>9XX TERMINAL AVE</td>\n",
       "      <td>Strathcona</td>\n",
       "      <td>493906.5</td>\n",
       "      <td>5457452.47</td>\n",
       "      <td>49.269802</td>\n",
       "      <td>-123.083763</td>\n",
       "      <td>2003-04-12</td>\n",
       "      <td>5</td>\n",
       "    </tr>\n",
       "  </tbody>\n",
       "</table>\n",
       "</div>"
      ],
      "text/plain": [
       "                   TYPE  YEAR  MONTH  DAY  HOUR  MINUTE            STREET  \\\n",
       "DATE                                                                        \n",
       "2003-05-12  Other Theft  2003      5   12  16.0    15.0  9XX TERMINAL AVE   \n",
       "2003-05-07  Other Theft  2003      5    7  15.0    20.0  9XX TERMINAL AVE   \n",
       "2003-04-23  Other Theft  2003      4   23  16.0    40.0  9XX TERMINAL AVE   \n",
       "2003-04-20  Other Theft  2003      4   20  11.0    15.0  9XX TERMINAL AVE   \n",
       "2003-04-12  Other Theft  2003      4   12  17.0    45.0  9XX TERMINAL AVE   \n",
       "\n",
       "           NEIGHBOURHOOD  X - AXIS    Y - AXIS   LATITUDE   LONGITUDE  \\\n",
       "DATE                                                                    \n",
       "2003-05-12    Strathcona  493906.5  5457452.47  49.269802 -123.083763   \n",
       "2003-05-07    Strathcona  493906.5  5457452.47  49.269802 -123.083763   \n",
       "2003-04-23    Strathcona  493906.5  5457452.47  49.269802 -123.083763   \n",
       "2003-04-20    Strathcona  493906.5  5457452.47  49.269802 -123.083763   \n",
       "2003-04-12    Strathcona  493906.5  5457452.47  49.269802 -123.083763   \n",
       "\n",
       "                 DATE  DAY OF WEEK  \n",
       "DATE                                \n",
       "2003-05-12 2003-05-12            0  \n",
       "2003-05-07 2003-05-07            2  \n",
       "2003-04-23 2003-04-23            2  \n",
       "2003-04-20 2003-04-20            6  \n",
       "2003-04-12 2003-04-12            5  "
      ]
     },
     "execution_count": 91,
     "metadata": {},
     "output_type": "execute_result"
    }
   ],
   "source": [
    "df['DATE'] = pd.to_datetime({'year':df['YEAR'], 'month':df['MONTH'], 'day':df['DAY']})\n",
    "df['DAY OF WEEK'] = df['DATE'].dt.dayofweek\n",
    "df.index = (df['DATE'])\n",
    "\n",
    "\n",
    "df.head()"
   ]
  },
  {
   "cell_type": "markdown",
   "metadata": {},
   "source": [
    "## PART III : EXPLORING THE DATA \n"
   ]
  },
  {
   "cell_type": "code",
   "execution_count": 6,
   "metadata": {},
   "outputs": [
    {
     "data": {
      "text/plain": [
       "(530652, 11)"
      ]
     },
     "execution_count": 6,
     "metadata": {},
     "output_type": "execute_result"
    }
   ],
   "source": [
    "#let's see the number of rows and columns of the data set\n",
    "df.shape"
   ]
  },
  {
   "cell_type": "code",
   "execution_count": 280,
   "metadata": {},
   "outputs": [
    {
     "data": {
      "text/plain": [
       "TYPE              object\n",
       "YEAR               int64\n",
       "MONTH              int64\n",
       "DAY                int64\n",
       "HOUR             float64\n",
       "MINUTE           float64\n",
       "HUNDRED_BLOCK     object\n",
       "NEIGHBOURHOOD     object\n",
       "X                float64\n",
       "Y                float64\n",
       "Latitude         float64\n",
       "Longitude        float64\n",
       "dtype: object"
      ]
     },
     "execution_count": 280,
     "metadata": {},
     "output_type": "execute_result"
    }
   ],
   "source": [
    "#check the data type of our data set\n",
    "df.dtypes"
   ]
  },
  {
   "cell_type": "markdown",
   "metadata": {},
   "source": [
    "# What are the most common Crimes in Vancouver ?"
   ]
  },
  {
   "cell_type": "code",
   "execution_count": 295,
   "metadata": {},
   "outputs": [
    {
     "data": {
      "text/html": [
       "<img src=\"http://www.clair-hills.ca/wp-content/uploads/2016/04/car-theft-prevention.jpg\"/>"
      ],
      "text/plain": [
       "<IPython.core.display.Image object>"
      ]
     },
     "execution_count": 295,
     "metadata": {},
     "output_type": "execute_result"
    }
   ],
   "source": [
    "from IPython.display import Image\n",
    "Image(url= \"http://www.clair-hills.ca/wp-content/uploads/2016/04/car-theft-prevention.jpg\")"
   ]
  },
  {
   "cell_type": "code",
   "execution_count": 283,
   "metadata": {},
   "outputs": [
    {
     "data": {
      "text/plain": [
       "Homicide                                                     220\n",
       "Vehicle Collision or Pedestrian Struck (with Fatality)       254\n",
       "Vehicle Collision or Pedestrian Struck (with Injury)       21901\n",
       "Theft of Bicycle                                           25730\n",
       "Break and Enter Commercial                                 33845\n",
       "Theft of Vehicle                                           38418\n",
       "Other Theft                                                52167\n",
       "Offence Against a Person                                   54142\n",
       "Break and Enter Residential/Other                          60862\n",
       "Mischief                                                   70413\n",
       "Theft from Vehicle                                        172700\n",
       "Name: TYPE, dtype: int64"
      ]
     },
     "execution_count": 283,
     "metadata": {},
     "output_type": "execute_result"
    }
   ],
   "source": [
    "#Let's analyse the types of crimes we have and sort it by the most common crime\n",
    "crimes = df['TYPE'].value_counts()\n",
    "crimes.sort_values()"
   ]
  },
  {
   "cell_type": "markdown",
   "metadata": {},
   "source": [
    "# What's the most dangeroous Neighbourhood in Vancouver ?"
   ]
  },
  {
   "cell_type": "code",
   "execution_count": 297,
   "metadata": {},
   "outputs": [
    {
     "data": {
      "text/html": [
       "<img src=\"http://photos.wikimapia.org/p/00/01/86/29/70_big.jpg\"/>"
      ],
      "text/plain": [
       "<IPython.core.display.Image object>"
      ]
     },
     "execution_count": 297,
     "metadata": {},
     "output_type": "execute_result"
    }
   ],
   "source": [
    "from IPython.display import Image\n",
    "Image(url= \"http://photos.wikimapia.org/p/00/01/86/29/70_big.jpg\")"
   ]
  },
  {
   "cell_type": "code",
   "execution_count": 296,
   "metadata": {},
   "outputs": [
    {
     "data": {
      "text/plain": [
       "Musqueam                        532\n",
       "Stanley Park                   3775\n",
       "South Cambie                   5212\n",
       "Shaughnessy                    5426\n",
       "West Point Grey                5871\n",
       "Arbutus Ridge                  6066\n",
       "Kerrisdale                     7447\n",
       "Dunbar-Southlands              7746\n",
       "Oakridge                       8037\n",
       "Killarney                     10475\n",
       "Victoria-Fraserview           10819\n",
       "Riley Park                    12521\n",
       "Marpole                       13083\n",
       "Sunset                        17396\n",
       "Hastings-Sunrise              18126\n",
       "Strathcona                    20919\n",
       "Kensington-Cedar Cottage      24941\n",
       "Kitsilano                     26699\n",
       "Renfrew-Collingwood           26761\n",
       "Grandview-Woodland            27180\n",
       "Mount Pleasant                30536\n",
       "Fairview                      32161\n",
       "West End                      41352\n",
       "Central Business District    110947\n",
       "Name: NEIGHBOURHOOD, dtype: int64"
      ]
     },
     "execution_count": 296,
     "metadata": {},
     "output_type": "execute_result"
    }
   ],
   "source": [
    "location = df['NEIGHBOURHOOD'].value_counts()\n",
    "location.sort_values()"
   ]
  },
  {
   "cell_type": "markdown",
   "metadata": {},
   "source": [
    "# Statistical overview of the data set"
   ]
  },
  {
   "cell_type": "code",
   "execution_count": 152,
   "metadata": {},
   "outputs": [
    {
     "data": {
      "text/html": [
       "<div>\n",
       "<style>\n",
       "    .dataframe thead tr:only-child th {\n",
       "        text-align: right;\n",
       "    }\n",
       "\n",
       "    .dataframe thead th {\n",
       "        text-align: left;\n",
       "    }\n",
       "\n",
       "    .dataframe tbody tr th {\n",
       "        vertical-align: top;\n",
       "    }\n",
       "</style>\n",
       "<table border=\"1\" class=\"dataframe\">\n",
       "  <thead>\n",
       "    <tr style=\"text-align: right;\">\n",
       "      <th></th>\n",
       "      <th>YEAR</th>\n",
       "      <th>MONTH</th>\n",
       "      <th>DAY</th>\n",
       "      <th>HOUR</th>\n",
       "      <th>MINUTE</th>\n",
       "      <th>X</th>\n",
       "      <th>Y</th>\n",
       "      <th>Latitude</th>\n",
       "      <th>Longitude</th>\n",
       "    </tr>\n",
       "  </thead>\n",
       "  <tbody>\n",
       "    <tr>\n",
       "      <th>count</th>\n",
       "      <td>530652.000000</td>\n",
       "      <td>530652.000000</td>\n",
       "      <td>530652.000000</td>\n",
       "      <td>476290.000000</td>\n",
       "      <td>476290.000000</td>\n",
       "      <td>530652.000000</td>\n",
       "      <td>5.306520e+05</td>\n",
       "      <td>530652.000000</td>\n",
       "      <td>530652.000000</td>\n",
       "    </tr>\n",
       "    <tr>\n",
       "      <th>mean</th>\n",
       "      <td>2009.197956</td>\n",
       "      <td>6.450597</td>\n",
       "      <td>15.408590</td>\n",
       "      <td>13.711254</td>\n",
       "      <td>16.940039</td>\n",
       "      <td>441802.149909</td>\n",
       "      <td>4.897663e+06</td>\n",
       "      <td>44.216029</td>\n",
       "      <td>-110.495297</td>\n",
       "    </tr>\n",
       "    <tr>\n",
       "      <th>std</th>\n",
       "      <td>4.386272</td>\n",
       "      <td>3.399212</td>\n",
       "      <td>8.750642</td>\n",
       "      <td>6.767744</td>\n",
       "      <td>18.418950</td>\n",
       "      <td>149281.547656</td>\n",
       "      <td>1.654633e+06</td>\n",
       "      <td>14.938004</td>\n",
       "      <td>37.329862</td>\n",
       "    </tr>\n",
       "    <tr>\n",
       "      <th>min</th>\n",
       "      <td>2003.000000</td>\n",
       "      <td>1.000000</td>\n",
       "      <td>1.000000</td>\n",
       "      <td>0.000000</td>\n",
       "      <td>0.000000</td>\n",
       "      <td>0.000000</td>\n",
       "      <td>0.000000e+00</td>\n",
       "      <td>0.000000</td>\n",
       "      <td>-124.549757</td>\n",
       "    </tr>\n",
       "    <tr>\n",
       "      <th>25%</th>\n",
       "      <td>2005.000000</td>\n",
       "      <td>4.000000</td>\n",
       "      <td>8.000000</td>\n",
       "      <td>9.000000</td>\n",
       "      <td>0.000000</td>\n",
       "      <td>489944.452500</td>\n",
       "      <td>5.453651e+06</td>\n",
       "      <td>49.235573</td>\n",
       "      <td>-123.127194</td>\n",
       "    </tr>\n",
       "    <tr>\n",
       "      <th>50%</th>\n",
       "      <td>2009.000000</td>\n",
       "      <td>6.000000</td>\n",
       "      <td>15.000000</td>\n",
       "      <td>15.000000</td>\n",
       "      <td>10.000000</td>\n",
       "      <td>491499.240000</td>\n",
       "      <td>5.456840e+06</td>\n",
       "      <td>49.264251</td>\n",
       "      <td>-123.107128</td>\n",
       "    </tr>\n",
       "    <tr>\n",
       "      <th>75%</th>\n",
       "      <td>2013.000000</td>\n",
       "      <td>9.000000</td>\n",
       "      <td>23.000000</td>\n",
       "      <td>19.000000</td>\n",
       "      <td>30.000000</td>\n",
       "      <td>493547.210000</td>\n",
       "      <td>5.458638e+06</td>\n",
       "      <td>49.280441</td>\n",
       "      <td>-123.065932</td>\n",
       "    </tr>\n",
       "    <tr>\n",
       "      <th>max</th>\n",
       "      <td>2017.000000</td>\n",
       "      <td>12.000000</td>\n",
       "      <td>31.000000</td>\n",
       "      <td>23.000000</td>\n",
       "      <td>59.000000</td>\n",
       "      <td>511303.000000</td>\n",
       "      <td>5.512579e+06</td>\n",
       "      <td>49.755314</td>\n",
       "      <td>0.000000</td>\n",
       "    </tr>\n",
       "  </tbody>\n",
       "</table>\n",
       "</div>"
      ],
      "text/plain": [
       "                YEAR          MONTH            DAY           HOUR  \\\n",
       "count  530652.000000  530652.000000  530652.000000  476290.000000   \n",
       "mean     2009.197956       6.450597      15.408590      13.711254   \n",
       "std         4.386272       3.399212       8.750642       6.767744   \n",
       "min      2003.000000       1.000000       1.000000       0.000000   \n",
       "25%      2005.000000       4.000000       8.000000       9.000000   \n",
       "50%      2009.000000       6.000000      15.000000      15.000000   \n",
       "75%      2013.000000       9.000000      23.000000      19.000000   \n",
       "max      2017.000000      12.000000      31.000000      23.000000   \n",
       "\n",
       "              MINUTE              X             Y       Latitude  \\\n",
       "count  476290.000000  530652.000000  5.306520e+05  530652.000000   \n",
       "mean       16.940039  441802.149909  4.897663e+06      44.216029   \n",
       "std        18.418950  149281.547656  1.654633e+06      14.938004   \n",
       "min         0.000000       0.000000  0.000000e+00       0.000000   \n",
       "25%         0.000000  489944.452500  5.453651e+06      49.235573   \n",
       "50%        10.000000  491499.240000  5.456840e+06      49.264251   \n",
       "75%        30.000000  493547.210000  5.458638e+06      49.280441   \n",
       "max        59.000000  511303.000000  5.512579e+06      49.755314   \n",
       "\n",
       "           Longitude  \n",
       "count  530652.000000  \n",
       "mean     -110.495297  \n",
       "std        37.329862  \n",
       "min      -124.549757  \n",
       "25%      -123.127194  \n",
       "50%      -123.107128  \n",
       "75%      -123.065932  \n",
       "max         0.000000  "
      ]
     },
     "execution_count": 152,
     "metadata": {},
     "output_type": "execute_result"
    }
   ],
   "source": [
    "df.describe()"
   ]
  },
  {
   "cell_type": "markdown",
   "metadata": {},
   "source": [
    "# Correlation\n",
    "\n",
    "### Negative correaltions can be observed throughout the data set.\n"
   ]
  },
  {
   "cell_type": "code",
   "execution_count": 151,
   "metadata": {},
   "outputs": [
    {
     "data": {
      "text/html": [
       "<div>\n",
       "<style>\n",
       "    .dataframe thead tr:only-child th {\n",
       "        text-align: right;\n",
       "    }\n",
       "\n",
       "    .dataframe thead th {\n",
       "        text-align: left;\n",
       "    }\n",
       "\n",
       "    .dataframe tbody tr th {\n",
       "        vertical-align: top;\n",
       "    }\n",
       "</style>\n",
       "<table border=\"1\" class=\"dataframe\">\n",
       "  <thead>\n",
       "    <tr style=\"text-align: right;\">\n",
       "      <th></th>\n",
       "      <th>YEAR</th>\n",
       "      <th>MONTH</th>\n",
       "      <th>DAY</th>\n",
       "      <th>HOUR</th>\n",
       "      <th>MINUTE</th>\n",
       "      <th>X</th>\n",
       "      <th>Y</th>\n",
       "      <th>Latitude</th>\n",
       "      <th>Longitude</th>\n",
       "    </tr>\n",
       "  </thead>\n",
       "  <tbody>\n",
       "    <tr>\n",
       "      <th>YEAR</th>\n",
       "      <td>1.000000</td>\n",
       "      <td>-0.036760</td>\n",
       "      <td>-0.006259</td>\n",
       "      <td>-0.010584</td>\n",
       "      <td>0.061995</td>\n",
       "      <td>-0.021933</td>\n",
       "      <td>-0.021905</td>\n",
       "      <td>-0.021905</td>\n",
       "      <td>0.021960</td>\n",
       "    </tr>\n",
       "    <tr>\n",
       "      <th>MONTH</th>\n",
       "      <td>-0.036760</td>\n",
       "      <td>1.000000</td>\n",
       "      <td>0.008962</td>\n",
       "      <td>0.000165</td>\n",
       "      <td>-0.005977</td>\n",
       "      <td>0.000980</td>\n",
       "      <td>0.000841</td>\n",
       "      <td>0.000841</td>\n",
       "      <td>-0.000838</td>\n",
       "    </tr>\n",
       "    <tr>\n",
       "      <th>DAY</th>\n",
       "      <td>-0.006259</td>\n",
       "      <td>0.008962</td>\n",
       "      <td>1.000000</td>\n",
       "      <td>0.004865</td>\n",
       "      <td>0.005272</td>\n",
       "      <td>-0.004024</td>\n",
       "      <td>-0.004049</td>\n",
       "      <td>-0.004049</td>\n",
       "      <td>0.004043</td>\n",
       "    </tr>\n",
       "    <tr>\n",
       "      <th>HOUR</th>\n",
       "      <td>-0.010584</td>\n",
       "      <td>0.000165</td>\n",
       "      <td>0.004865</td>\n",
       "      <td>1.000000</td>\n",
       "      <td>-0.049010</td>\n",
       "      <td>0.000325</td>\n",
       "      <td>-0.018249</td>\n",
       "      <td>-0.018259</td>\n",
       "      <td>0.000343</td>\n",
       "    </tr>\n",
       "    <tr>\n",
       "      <th>MINUTE</th>\n",
       "      <td>0.061995</td>\n",
       "      <td>-0.005977</td>\n",
       "      <td>0.005272</td>\n",
       "      <td>-0.049010</td>\n",
       "      <td>1.000000</td>\n",
       "      <td>0.018892</td>\n",
       "      <td>0.048568</td>\n",
       "      <td>0.048622</td>\n",
       "      <td>0.018827</td>\n",
       "    </tr>\n",
       "    <tr>\n",
       "      <th>X</th>\n",
       "      <td>-0.021933</td>\n",
       "      <td>0.000980</td>\n",
       "      <td>-0.004024</td>\n",
       "      <td>0.000325</td>\n",
       "      <td>0.018892</td>\n",
       "      <td>1.000000</td>\n",
       "      <td>0.999843</td>\n",
       "      <td>0.999843</td>\n",
       "      <td>-0.999831</td>\n",
       "    </tr>\n",
       "    <tr>\n",
       "      <th>Y</th>\n",
       "      <td>-0.021905</td>\n",
       "      <td>0.000841</td>\n",
       "      <td>-0.004049</td>\n",
       "      <td>-0.018249</td>\n",
       "      <td>0.048568</td>\n",
       "      <td>0.999843</td>\n",
       "      <td>1.000000</td>\n",
       "      <td>1.000000</td>\n",
       "      <td>-0.999999</td>\n",
       "    </tr>\n",
       "    <tr>\n",
       "      <th>Latitude</th>\n",
       "      <td>-0.021905</td>\n",
       "      <td>0.000841</td>\n",
       "      <td>-0.004049</td>\n",
       "      <td>-0.018259</td>\n",
       "      <td>0.048622</td>\n",
       "      <td>0.999843</td>\n",
       "      <td>1.000000</td>\n",
       "      <td>1.000000</td>\n",
       "      <td>-0.999999</td>\n",
       "    </tr>\n",
       "    <tr>\n",
       "      <th>Longitude</th>\n",
       "      <td>0.021960</td>\n",
       "      <td>-0.000838</td>\n",
       "      <td>0.004043</td>\n",
       "      <td>0.000343</td>\n",
       "      <td>0.018827</td>\n",
       "      <td>-0.999831</td>\n",
       "      <td>-0.999999</td>\n",
       "      <td>-0.999999</td>\n",
       "      <td>1.000000</td>\n",
       "    </tr>\n",
       "  </tbody>\n",
       "</table>\n",
       "</div>"
      ],
      "text/plain": [
       "               YEAR     MONTH       DAY      HOUR    MINUTE         X  \\\n",
       "YEAR       1.000000 -0.036760 -0.006259 -0.010584  0.061995 -0.021933   \n",
       "MONTH     -0.036760  1.000000  0.008962  0.000165 -0.005977  0.000980   \n",
       "DAY       -0.006259  0.008962  1.000000  0.004865  0.005272 -0.004024   \n",
       "HOUR      -0.010584  0.000165  0.004865  1.000000 -0.049010  0.000325   \n",
       "MINUTE     0.061995 -0.005977  0.005272 -0.049010  1.000000  0.018892   \n",
       "X         -0.021933  0.000980 -0.004024  0.000325  0.018892  1.000000   \n",
       "Y         -0.021905  0.000841 -0.004049 -0.018249  0.048568  0.999843   \n",
       "Latitude  -0.021905  0.000841 -0.004049 -0.018259  0.048622  0.999843   \n",
       "Longitude  0.021960 -0.000838  0.004043  0.000343  0.018827 -0.999831   \n",
       "\n",
       "                  Y  Latitude  Longitude  \n",
       "YEAR      -0.021905 -0.021905   0.021960  \n",
       "MONTH      0.000841  0.000841  -0.000838  \n",
       "DAY       -0.004049 -0.004049   0.004043  \n",
       "HOUR      -0.018249 -0.018259   0.000343  \n",
       "MINUTE     0.048568  0.048622   0.018827  \n",
       "X          0.999843  0.999843  -0.999831  \n",
       "Y          1.000000  1.000000  -0.999999  \n",
       "Latitude   1.000000  1.000000  -0.999999  \n",
       "Longitude -0.999999 -0.999999   1.000000  "
      ]
     },
     "execution_count": 151,
     "metadata": {},
     "output_type": "execute_result"
    },
    {
     "data": {
      "image/png": "[encoded data removed]",
      "text/plain": [
       "<matplotlib.figure.Figure at 0x1d9bfffd048>"
      ]
     },
     "metadata": {},
     "output_type": "display_data"
    }
   ],
   "source": [
    "correlation = df.corr()\n",
    "correlation\n",
    "\n",
    "sns.heatmap(correlation, \n",
    "            xticklabels=correlation.columns.values,\n",
    "            yticklabels=correlation.columns.values)\n",
    "\n",
    "correlation"
   ]
  },
  {
   "cell_type": "markdown",
   "metadata": {},
   "source": [
    "#### I adjusted the data by making the neighbourhoods numeric to get a better correlation but this did not make any significant difference.\n",
    "\n",
    "MARPOLE - 6\n",
    "STRATHCONA - 7\n",
    "KERRISDALE 5\n",
    "GRANDVIEW WOODLAND - 2\n",
    "WEST END - 3\n",
    "CENTRAL BUSINESS DISTRICT - 4\n",
    "DUNBAR SOUTHLANDS - 8\n",
    "Sunset - 9\n",
    "Victoria-Fraserview - 10\n",
    "Fairview - 11\n",
    "Kensington-Cedar Cottage - 12\n",
    "Killarney - 13\n",
    "Riley Park - 14\n",
    "Musqueam - 15 \n",
    "Mount Pleasant - 16\n",
    "West Point Grey - 17\n",
    "KITSILANO - 18\n",
    "STANLEY PARK - 19 \n",
    "Hastings-Sunrise - 20\n",
    "Shaughnessy - 21\n",
    "Oakridge - 22\n",
    "Renfrew-Collingwood - 23\n",
    "South Cambie - 24"
   ]
  },
  {
   "cell_type": "code",
   "execution_count": 154,
   "metadata": {},
   "outputs": [
    {
     "data": {
      "text/html": [
       "<div>\n",
       "<style>\n",
       "    .dataframe thead tr:only-child th {\n",
       "        text-align: right;\n",
       "    }\n",
       "\n",
       "    .dataframe thead th {\n",
       "        text-align: left;\n",
       "    }\n",
       "\n",
       "    .dataframe tbody tr th {\n",
       "        vertical-align: top;\n",
       "    }\n",
       "</style>\n",
       "<table border=\"1\" class=\"dataframe\">\n",
       "  <thead>\n",
       "    <tr style=\"text-align: right;\">\n",
       "      <th></th>\n",
       "      <th>TYPE</th>\n",
       "      <th>YEAR</th>\n",
       "      <th>MONTH</th>\n",
       "      <th>DAY</th>\n",
       "      <th>HOUR</th>\n",
       "      <th>MINUTE</th>\n",
       "      <th>HUNDRED_BLOCK</th>\n",
       "      <th>NEIGHBOURHOOD</th>\n",
       "      <th>X</th>\n",
       "      <th>Y</th>\n",
       "      <th>Latitude</th>\n",
       "      <th>Longitude</th>\n",
       "    </tr>\n",
       "  </thead>\n",
       "  <tbody>\n",
       "    <tr>\n",
       "      <th>0</th>\n",
       "      <td>Other Theft</td>\n",
       "      <td>2003</td>\n",
       "      <td>5</td>\n",
       "      <td>12</td>\n",
       "      <td>16.0</td>\n",
       "      <td>15.0</td>\n",
       "      <td>9XX TERMINAL AVE</td>\n",
       "      <td>7.0</td>\n",
       "      <td>493906.5</td>\n",
       "      <td>5457452.47</td>\n",
       "      <td>49.269802</td>\n",
       "      <td>-123.083763</td>\n",
       "    </tr>\n",
       "    <tr>\n",
       "      <th>1</th>\n",
       "      <td>Other Theft</td>\n",
       "      <td>2003</td>\n",
       "      <td>5</td>\n",
       "      <td>7</td>\n",
       "      <td>15.0</td>\n",
       "      <td>20.0</td>\n",
       "      <td>9XX TERMINAL AVE</td>\n",
       "      <td>7.0</td>\n",
       "      <td>493906.5</td>\n",
       "      <td>5457452.47</td>\n",
       "      <td>49.269802</td>\n",
       "      <td>-123.083763</td>\n",
       "    </tr>\n",
       "    <tr>\n",
       "      <th>2</th>\n",
       "      <td>Other Theft</td>\n",
       "      <td>2003</td>\n",
       "      <td>4</td>\n",
       "      <td>23</td>\n",
       "      <td>16.0</td>\n",
       "      <td>40.0</td>\n",
       "      <td>9XX TERMINAL AVE</td>\n",
       "      <td>7.0</td>\n",
       "      <td>493906.5</td>\n",
       "      <td>5457452.47</td>\n",
       "      <td>49.269802</td>\n",
       "      <td>-123.083763</td>\n",
       "    </tr>\n",
       "    <tr>\n",
       "      <th>3</th>\n",
       "      <td>Other Theft</td>\n",
       "      <td>2003</td>\n",
       "      <td>4</td>\n",
       "      <td>20</td>\n",
       "      <td>11.0</td>\n",
       "      <td>15.0</td>\n",
       "      <td>9XX TERMINAL AVE</td>\n",
       "      <td>7.0</td>\n",
       "      <td>493906.5</td>\n",
       "      <td>5457452.47</td>\n",
       "      <td>49.269802</td>\n",
       "      <td>-123.083763</td>\n",
       "    </tr>\n",
       "    <tr>\n",
       "      <th>4</th>\n",
       "      <td>Other Theft</td>\n",
       "      <td>2003</td>\n",
       "      <td>4</td>\n",
       "      <td>12</td>\n",
       "      <td>17.0</td>\n",
       "      <td>45.0</td>\n",
       "      <td>9XX TERMINAL AVE</td>\n",
       "      <td>7.0</td>\n",
       "      <td>493906.5</td>\n",
       "      <td>5457452.47</td>\n",
       "      <td>49.269802</td>\n",
       "      <td>-123.083763</td>\n",
       "    </tr>\n",
       "  </tbody>\n",
       "</table>\n",
       "</div>"
      ],
      "text/plain": [
       "          TYPE  YEAR  MONTH  DAY  HOUR  MINUTE     HUNDRED_BLOCK  \\\n",
       "0  Other Theft  2003      5   12  16.0    15.0  9XX TERMINAL AVE   \n",
       "1  Other Theft  2003      5    7  15.0    20.0  9XX TERMINAL AVE   \n",
       "2  Other Theft  2003      4   23  16.0    40.0  9XX TERMINAL AVE   \n",
       "3  Other Theft  2003      4   20  11.0    15.0  9XX TERMINAL AVE   \n",
       "4  Other Theft  2003      4   12  17.0    45.0  9XX TERMINAL AVE   \n",
       "\n",
       "   NEIGHBOURHOOD         X           Y   Latitude   Longitude  \n",
       "0            7.0  493906.5  5457452.47  49.269802 -123.083763  \n",
       "1            7.0  493906.5  5457452.47  49.269802 -123.083763  \n",
       "2            7.0  493906.5  5457452.47  49.269802 -123.083763  \n",
       "3            7.0  493906.5  5457452.47  49.269802 -123.083763  \n",
       "4            7.0  493906.5  5457452.47  49.269802 -123.083763  "
      ]
     },
     "execution_count": 154,
     "metadata": {},
     "output_type": "execute_result"
    }
   ],
   "source": [
    "#let's see the correlation between the type of theft and the location \n",
    "df2 = pd.DataFrame.from_csv('c:/Users/sabby/Desktop/Data Science/crime2.csv') \n",
    "df2.head()"
   ]
  },
  {
   "cell_type": "code",
   "execution_count": 155,
   "metadata": {},
   "outputs": [
    {
     "data": {
      "text/html": [
       "<div>\n",
       "<style>\n",
       "    .dataframe thead tr:only-child th {\n",
       "        text-align: right;\n",
       "    }\n",
       "\n",
       "    .dataframe thead th {\n",
       "        text-align: left;\n",
       "    }\n",
       "\n",
       "    .dataframe tbody tr th {\n",
       "        vertical-align: top;\n",
       "    }\n",
       "</style>\n",
       "<table border=\"1\" class=\"dataframe\">\n",
       "  <thead>\n",
       "    <tr style=\"text-align: right;\">\n",
       "      <th></th>\n",
       "      <th>YEAR</th>\n",
       "      <th>MONTH</th>\n",
       "      <th>DAY</th>\n",
       "      <th>HOUR</th>\n",
       "      <th>MINUTE</th>\n",
       "      <th>NEIGHBOURHOOD</th>\n",
       "      <th>X</th>\n",
       "      <th>Y</th>\n",
       "      <th>Latitude</th>\n",
       "      <th>Longitude</th>\n",
       "    </tr>\n",
       "  </thead>\n",
       "  <tbody>\n",
       "    <tr>\n",
       "      <th>YEAR</th>\n",
       "      <td>1.000000</td>\n",
       "      <td>-0.036760</td>\n",
       "      <td>-0.006259</td>\n",
       "      <td>-0.010584</td>\n",
       "      <td>0.061995</td>\n",
       "      <td>-0.014886</td>\n",
       "      <td>-0.021933</td>\n",
       "      <td>-0.021905</td>\n",
       "      <td>-0.021905</td>\n",
       "      <td>0.021960</td>\n",
       "    </tr>\n",
       "    <tr>\n",
       "      <th>MONTH</th>\n",
       "      <td>-0.036760</td>\n",
       "      <td>1.000000</td>\n",
       "      <td>0.008962</td>\n",
       "      <td>0.000165</td>\n",
       "      <td>-0.005977</td>\n",
       "      <td>0.005241</td>\n",
       "      <td>0.000980</td>\n",
       "      <td>0.000841</td>\n",
       "      <td>0.000841</td>\n",
       "      <td>-0.000838</td>\n",
       "    </tr>\n",
       "    <tr>\n",
       "      <th>DAY</th>\n",
       "      <td>-0.006259</td>\n",
       "      <td>0.008962</td>\n",
       "      <td>1.000000</td>\n",
       "      <td>0.004865</td>\n",
       "      <td>0.005272</td>\n",
       "      <td>-0.000290</td>\n",
       "      <td>-0.004024</td>\n",
       "      <td>-0.004049</td>\n",
       "      <td>-0.004049</td>\n",
       "      <td>0.004043</td>\n",
       "    </tr>\n",
       "    <tr>\n",
       "      <th>HOUR</th>\n",
       "      <td>-0.010584</td>\n",
       "      <td>0.000165</td>\n",
       "      <td>0.004865</td>\n",
       "      <td>1.000000</td>\n",
       "      <td>-0.049010</td>\n",
       "      <td>0.016645</td>\n",
       "      <td>0.000325</td>\n",
       "      <td>-0.018249</td>\n",
       "      <td>-0.018259</td>\n",
       "      <td>0.000343</td>\n",
       "    </tr>\n",
       "    <tr>\n",
       "      <th>MINUTE</th>\n",
       "      <td>0.061995</td>\n",
       "      <td>-0.005977</td>\n",
       "      <td>0.005272</td>\n",
       "      <td>-0.049010</td>\n",
       "      <td>1.000000</td>\n",
       "      <td>-0.035563</td>\n",
       "      <td>0.018892</td>\n",
       "      <td>0.048568</td>\n",
       "      <td>0.048622</td>\n",
       "      <td>0.018827</td>\n",
       "    </tr>\n",
       "    <tr>\n",
       "      <th>NEIGHBOURHOOD</th>\n",
       "      <td>-0.014886</td>\n",
       "      <td>0.005241</td>\n",
       "      <td>-0.000290</td>\n",
       "      <td>0.016645</td>\n",
       "      <td>-0.035563</td>\n",
       "      <td>1.000000</td>\n",
       "      <td>0.247224</td>\n",
       "      <td>-0.354006</td>\n",
       "      <td>-0.353849</td>\n",
       "      <td>0.247599</td>\n",
       "    </tr>\n",
       "    <tr>\n",
       "      <th>X</th>\n",
       "      <td>-0.021933</td>\n",
       "      <td>0.000980</td>\n",
       "      <td>-0.004024</td>\n",
       "      <td>0.000325</td>\n",
       "      <td>0.018892</td>\n",
       "      <td>0.247224</td>\n",
       "      <td>1.000000</td>\n",
       "      <td>0.999843</td>\n",
       "      <td>0.999843</td>\n",
       "      <td>-0.999831</td>\n",
       "    </tr>\n",
       "    <tr>\n",
       "      <th>Y</th>\n",
       "      <td>-0.021905</td>\n",
       "      <td>0.000841</td>\n",
       "      <td>-0.004049</td>\n",
       "      <td>-0.018249</td>\n",
       "      <td>0.048568</td>\n",
       "      <td>-0.354006</td>\n",
       "      <td>0.999843</td>\n",
       "      <td>1.000000</td>\n",
       "      <td>1.000000</td>\n",
       "      <td>-0.999999</td>\n",
       "    </tr>\n",
       "    <tr>\n",
       "      <th>Latitude</th>\n",
       "      <td>-0.021905</td>\n",
       "      <td>0.000841</td>\n",
       "      <td>-0.004049</td>\n",
       "      <td>-0.018259</td>\n",
       "      <td>0.048622</td>\n",
       "      <td>-0.353849</td>\n",
       "      <td>0.999843</td>\n",
       "      <td>1.000000</td>\n",
       "      <td>1.000000</td>\n",
       "      <td>-0.999999</td>\n",
       "    </tr>\n",
       "    <tr>\n",
       "      <th>Longitude</th>\n",
       "      <td>0.021960</td>\n",
       "      <td>-0.000838</td>\n",
       "      <td>0.004043</td>\n",
       "      <td>0.000343</td>\n",
       "      <td>0.018827</td>\n",
       "      <td>0.247599</td>\n",
       "      <td>-0.999831</td>\n",
       "      <td>-0.999999</td>\n",
       "      <td>-0.999999</td>\n",
       "      <td>1.000000</td>\n",
       "    </tr>\n",
       "  </tbody>\n",
       "</table>\n",
       "</div>"
      ],
      "text/plain": [
       "                   YEAR     MONTH       DAY      HOUR    MINUTE  \\\n",
       "YEAR           1.000000 -0.036760 -0.006259 -0.010584  0.061995   \n",
       "MONTH         -0.036760  1.000000  0.008962  0.000165 -0.005977   \n",
       "DAY           -0.006259  0.008962  1.000000  0.004865  0.005272   \n",
       "HOUR          -0.010584  0.000165  0.004865  1.000000 -0.049010   \n",
       "MINUTE         0.061995 -0.005977  0.005272 -0.049010  1.000000   \n",
       "NEIGHBOURHOOD -0.014886  0.005241 -0.000290  0.016645 -0.035563   \n",
       "X             -0.021933  0.000980 -0.004024  0.000325  0.018892   \n",
       "Y             -0.021905  0.000841 -0.004049 -0.018249  0.048568   \n",
       "Latitude      -0.021905  0.000841 -0.004049 -0.018259  0.048622   \n",
       "Longitude      0.021960 -0.000838  0.004043  0.000343  0.018827   \n",
       "\n",
       "               NEIGHBOURHOOD         X         Y  Latitude  Longitude  \n",
       "YEAR               -0.014886 -0.021933 -0.021905 -0.021905   0.021960  \n",
       "MONTH               0.005241  0.000980  0.000841  0.000841  -0.000838  \n",
       "DAY                -0.000290 -0.004024 -0.004049 -0.004049   0.004043  \n",
       "HOUR                0.016645  0.000325 -0.018249 -0.018259   0.000343  \n",
       "MINUTE             -0.035563  0.018892  0.048568  0.048622   0.018827  \n",
       "NEIGHBOURHOOD       1.000000  0.247224 -0.354006 -0.353849   0.247599  \n",
       "X                   0.247224  1.000000  0.999843  0.999843  -0.999831  \n",
       "Y                  -0.354006  0.999843  1.000000  1.000000  -0.999999  \n",
       "Latitude           -0.353849  0.999843  1.000000  1.000000  -0.999999  \n",
       "Longitude           0.247599 -0.999831 -0.999999 -0.999999   1.000000  "
      ]
     },
     "execution_count": 155,
     "metadata": {},
     "output_type": "execute_result"
    },
    {
     "data": {
      "image/png": "[encoded data removed]",
      "text/plain": [
       "<matplotlib.figure.Figure at 0x1d9b7f5b6a0>"
      ]
     },
     "metadata": {},
     "output_type": "display_data"
    }
   ],
   "source": [
    "correlation2 = df2.corr()\n",
    "correlation2\n",
    "\n",
    "sns.heatmap(correlation2, \n",
    "            xticklabels=correlation2.columns.values,\n",
    "            yticklabels=correlation2.columns.values)\n",
    "\n",
    "correlation2"
   ]
  },
  {
   "cell_type": "markdown",
   "metadata": {
    "collapsed": true
   },
   "source": [
    "# PART IV: DATA VISUALIZATION\n"
   ]
  },
  {
   "cell_type": "markdown",
   "metadata": {},
   "source": [
    "#  Have crimes increased or decreased throughout the years ?"
   ]
  },
  {
   "cell_type": "code",
   "execution_count": 330,
   "metadata": {},
   "outputs": [
    {
     "data": {
      "image/png": "[encoded data removed]",
      "text/plain": [
       "<matplotlib.figure.Figure at 0x1d9c8ca9908>"
      ]
     },
     "metadata": {},
     "output_type": "display_data"
    }
   ],
   "source": [
    "f, ax = plt.subplots(figsize=(10, 10))\n",
    "sns.countplot(y=\"YEAR\", hue='YEAR', data=df).set_title('CRIMES IN VANCOUVER');"
   ]
  },
  {
   "cell_type": "markdown",
   "metadata": {},
   "source": [
    "# What is the most dangerous Neighbourhood?"
   ]
  },
  {
   "cell_type": "code",
   "execution_count": 331,
   "metadata": {},
   "outputs": [
    {
     "data": {
      "text/plain": [
       "(array([ 0,  1,  2,  3,  4,  5,  6,  7,  8,  9, 10, 11, 12, 13, 14, 15, 16,\n",
       "        17, 18, 19, 20, 21, 22, 23]), <a list of 24 Text xticklabel objects>)"
      ]
     },
     "execution_count": 331,
     "metadata": {},
     "output_type": "execute_result"
    },
    {
     "data": {
      "image/png": "[encoded data removed]",
      "text/plain": [
       "<matplotlib.figure.Figure at 0x1d9b94446d8>"
      ]
     },
     "metadata": {},
     "output_type": "display_data"
    }
   ],
   "source": [
    "color_types = ['#78C850','#F08030','#6890F0','#A8B820','#A8A878','#A040A0','#F8D030',  \n",
    "                '#E0C068','#EE99AC','#C03028','#F85888','#B8A038','#705898','#98D8D8','#7038F8']\n",
    "pylab.rcParams['figure.figsize'] = (10, 10.0)\n",
    "\n",
    "# Count Plot (a.k.a. Bar Plot)\n",
    "sns.countplot(x='NEIGHBOURHOOD', data=df, palette=color_types).set_title('CRIMES IN VANCOUVER');\n",
    " \n",
    "# Rotate x-labels\n",
    "plt.xticks(rotation=100)\n",
    "\n",
    "\n"
   ]
  },
  {
   "cell_type": "markdown",
   "metadata": {},
   "source": [
    "# What is the most common crime in Vancouver ?"
   ]
  },
  {
   "cell_type": "code",
   "execution_count": 332,
   "metadata": {},
   "outputs": [
    {
     "data": {
      "text/plain": [
       "(array([ 0,  1,  2,  3,  4,  5,  6,  7,  8,  9, 10]),\n",
       " <a list of 11 Text xticklabel objects>)"
      ]
     },
     "execution_count": 332,
     "metadata": {},
     "output_type": "execute_result"
    },
    {
     "data": {
      "image/png": "[encoded data removed]",
      "text/plain": [
       "<matplotlib.figure.Figure at 0x1d9c8ca98d0>"
      ]
     },
     "metadata": {},
     "output_type": "display_data"
    }
   ],
   "source": [
    "color_types = ['#78C850','#F08030','#6890F0','#A8B820','#A8A878','#A040A0','#F8D030',  \n",
    "                '#E0C068','#EE99AC','#C03028','#F85888','#B8A038','#705898','#98D8D8','#7038F8']\n",
    "pylab.rcParams['figure.figsize'] = (10, 10.0)\n",
    "\n",
    "# Count Plot (a.k.a. Bar Plot)\n",
    "sns.countplot(x='TYPE', data=df, palette=color_types).set_title('CRIMES IN VANCOUVER');\n",
    " \n",
    "# Rotate x-labels\n",
    "plt.xticks(rotation=100)"
   ]
  },
  {
   "cell_type": "markdown",
   "metadata": {},
   "source": [
    "# Which days of the month experiences the most crimes?"
   ]
  },
  {
   "cell_type": "code",
   "execution_count": 333,
   "metadata": {},
   "outputs": [
    {
     "data": {
      "text/plain": [
       "(array([ 0,  1,  2,  3,  4,  5,  6,  7,  8,  9, 10, 11, 12, 13, 14, 15, 16,\n",
       "        17, 18, 19, 20, 21, 22, 23, 24, 25, 26, 27, 28, 29, 30]),\n",
       " <a list of 31 Text xticklabel objects>)"
      ]
     },
     "execution_count": 333,
     "metadata": {},
     "output_type": "execute_result"
    },
    {
     "data": {
      "image/png": "[encoded data removed]",
      "text/plain": [
       "<matplotlib.figure.Figure at 0x1d9b68b5860>"
      ]
     },
     "metadata": {},
     "output_type": "display_data"
    }
   ],
   "source": [
    "color_types = ['#78C850','#F08030','#6890F0','#A8B820','#A8A878','#A040A0','#F8D030',  \n",
    "                '#E0C068','#EE99AC','#C03028','#F85888','#B8A038','#705898','#98D8D8','#7038F8']\n",
    "pylab.rcParams['figure.figsize'] = (10, 10.0)\n",
    "\n",
    "# Count Plot (a.k.a. Bar Plot)\n",
    "sns.countplot(x='DAY', data=df, palette=color_types).set_title('CRIMES IN VANCOUVER');\n",
    " \n",
    "# Rotate x-labels\n",
    "plt.xticks(rotation=100)"
   ]
  },
  {
   "cell_type": "markdown",
   "metadata": {},
   "source": [
    "# Mapping the Latitude and Longitude on a map"
   ]
  },
  {
   "cell_type": "code",
   "execution_count": 326,
   "metadata": {},
   "outputs": [
    {
     "data": {
      "image/png": "[encoded data removed]",
      "text/plain": [
       "<matplotlib.figure.Figure at 0x1d988d5a390>"
      ]
     },
     "execution_count": 326,
     "metadata": {},
     "output_type": "execute_result"
    },
    {
     "data": {
      "image/png": "[encoded data removed]",
      "text/plain": [
       "<matplotlib.figure.Figure at 0x1d988d5a390>"
      ]
     },
     "metadata": {},
     "output_type": "display_data"
    }
   ],
   "source": [
    "import matplotlib.pyplot as plt\n",
    "map = pd.DataFrame.from_csv('c:/Users/sabby/Desktop/Data Science/crime.csv')\n",
    "x = map[map['Longitude'] != 0]['Longitude']\n",
    "y = map[map['Latitude'] != 0]['Latitude']\n",
    "pylab.rcParams['figure.figsize'] = (10, 10.0)\n",
    "\n",
    "fig = plt.figure() \n",
    "\n",
    "plt.scatter(x, y)\n",
    "\n",
    "fig\n",
    "\n",
    "\n",
    "#map.plot(kind=\"scatter\", x=\"LONGITUDE\", y=\"LATITUDE\", alpha=0.4)\n",
    "#plt.show()\n",
    "#import matplotlib.pyplot as plt\n"
   ]
  },
  {
   "cell_type": "code",
   "execution_count": null,
   "metadata": {
    "collapsed": true
   },
   "outputs": [],
   "source": []
  }
 ],
 "metadata": {
  "kernelspec": {
   "display_name": "Python 3",
   "language": "python",
   "name": "python3"
  },
  "language_info": {
   "codemirror_mode": {
    "name": "ipython",
    "version": 3
   },
   "file_extension": ".py",
   "mimetype": "text/x-python",
   "name": "python",
   "nbconvert_exporter": "python",
   "pygments_lexer": "ipython3",
   "version": "3.6.1"
  }
 },
 "nbformat": 4,
 "nbformat_minor": 2
}
